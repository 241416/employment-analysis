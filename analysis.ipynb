{
 "cells": [
  {
   "cell_type": "code",
   "execution_count": null,
   "metadata": {},
   "outputs": [],
   "source": [
    "!pip install openai==1.0.0"
   ]
  },
  {
   "cell_type": "code",
   "execution_count": 1,
   "metadata": {},
   "outputs": [],
   "source": [
    "import pandas as pd\n",
    "jobs = pd.read_excel('/Users/taijieshengwu/Documents/专业课/大三上/boss_0.xlsx')"
   ]
  },
  {
   "cell_type": "code",
   "execution_count": null,
   "metadata": {},
   "outputs": [],
   "source": [
    "import pandas as pd\n",
    "\n",
    "category_mapping = {\n",
    "    \"内容运营\":[\"内容运营（电商）\",\"内容运营（跨境电商）\",\"内容运营（小说/网文/短剧）\",\"新媒体内容运营\",\"运营专员\",\"运营实习生\",\"小红书内容运营\",\"短视频内容运营\",\"内容运营专员\",\"内容运营实习生\",\"小红书内容运营负责人\",\"品牌内容策划\",\"IP内容运营\",\"抖音短视频内容运营\",\"淘内内容运营\",\"TikTok内容运营\",\"短视频文案编辑\",\"用户运营\",\"内容电商营销运营\"],\n",
    "    \"电商运营\":[\"电商运营专员\",\"电商运营经理\",\"电商运营助理\",\"电商运营主管\",\"跨境电商运营专员\",\"跨境电商运营主管\",\"跨境电商亚马逊运营专员\",\"跨境电商运营总监\",\"电商渠道运营专员\",\"新媒体运营专员\",\"淘宝运营专员\",\"电商直播运营专员\",\"高级市场运营专员\",\"电商运营实习生\",\"阿里巴巴运营专员\"],\n",
    "    \"编辑文案\":[\"文案编辑\",\"医学编辑\",\"小说编辑\",\"短篇编辑\",\"新媒体编辑\",\"财经公众号编辑\",\"SEO网站运营\",\"短视频脚本编辑\",\"视频剪辑/编辑\",\"社区运营（内容运营/文案策划）\",\"资深文案策划\",\"项目专员（文案）\",\"电商文案编辑策划\",\"网络小说编辑\",\"游戏文案编辑\"],\n",
    "    \"产品经理\":[\"产品经理\",\"产品经理（芯片）\",\"产品经理（金融硬件）\",\"产品经理（医疗软件）\",\"产品经理（办公系统）\",\"资深产品经理\",\"商品成长产品经理\",\"推荐策略产品经理\",\"影像产品经理\"]\n",
    "}\n",
    "\n",
    "# 定义一个函数来匹配职位并归类\n",
    "def categorize_job(job_title):\n",
    "    for category, keywords in category_mapping.items():\n",
    "        if any(keyword in job_title for keyword in keywords):\n",
    "            return category\n",
    "    return job_title \n",
    "\n",
    "# 将职位分类\n",
    "jobs['job_category'] = jobs['job'].apply(categorize_job)\n",
    "\n",
    "# 将相同类别的职位描述合并\n",
    "merged_jobs = jobs.groupby('job_category').agg({\n",
    "    'detail': ' '.join  # 合并同类别的职位描述\n",
    "}).reset_index()\n",
    "\n",
    "# 只保留5个类别\n",
    "merged_jobs = merged_jobs[merged_jobs['job_category'].isin(category_mapping.keys())]\n",
    "\n",
    "# 查看结果\n",
    "print(merged_jobs[\"job_category\"])"
   ]
  },
  {
   "cell_type": "code",
   "execution_count": null,
   "metadata": {},
   "outputs": [],
   "source": [
    "# 把job合并成\"内容运营\"，“电商运营”，“编辑”，“产品经理”，”广告文案“5个岗位\n"
   ]
  },
  {
   "cell_type": "code",
   "execution_count": 2,
   "metadata": {},
   "outputs": [
    {
     "name": "stdout",
     "output_type": "stream",
     "text": [
      "1097\n"
     ]
    }
   ],
   "source": [
    "merged_jobs=[]\n",
    "for _, row in jobs.iterrows():\n",
    "    dict={\"job\": row['job'], \"description\": row['detail']}\n",
    "    merged_jobs.append(dict)\n",
    "print(len(merged_jobs))"
   ]
  },
  {
   "cell_type": "code",
   "execution_count": 3,
   "metadata": {},
   "outputs": [
    {
     "name": "stdout",
     "output_type": "stream",
     "text": [
      "CSV 文件已生成，路径为 job_details.csv\n"
     ]
    }
   ],
   "source": [
    "import os\n",
    "import openai\n",
    "\n",
    "# optional; defaults to `os.environ['OPENAI_API_KEY']`\n",
    "openai.api_key = \"sk-yiOQSzzduEMnzrb0B51aEc9a191b4b22B08d0d1fB1480081\"\n",
    "\n",
    "# all client options can be configured just like the `OpenAI` instantiation counterpart\n",
    "openai.base_url = \"https://free.gpt.ge/v1/\"\n",
    "openai.default_headers = {\"x-foo\": \"true\"}\n",
    "\n",
    "def extract_job_details(job, description):\n",
    "    prompt = f\"\"\"给定以下的职位描述，请提取以下字段，并且只填写具体内容，没有的就写“无”：\n",
    "    1. 专业：这个职位要求的专业背景或学历。\n",
    "    2. 性格：适合这个职位的性格特点。\n",
    "    3. 软件技能：职位要求掌握的软件技能。\n",
    "    4. 工作内容：职位的主要职责和工作内容。\n",
    "    5. 品质：适合这个职位的个人品质或能力。\n",
    "\n",
    "    职位描述：\n",
    "    \"{description}\"\n",
    "\n",
    "    请以以下格式返回：\n",
    "    {job}\n",
    "    [专业-性格-软件技能-工作内容-品质]\n",
    "    \"\"\"\n",
    "    \n",
    "    completion = openai.chat.completions.create(\n",
    "    model=\"gpt-3.5-turbo\",\n",
    "    messages=[\n",
    "        {\n",
    "            \"role\": \"user\",\n",
    "            \"content\": prompt,\n",
    "        },\n",
    "    ],\n",
    ")\n",
    "    return completion.choices[0].message.content\n",
    "\n",
    "\n",
    "# 初始化空列表存储结果\n",
    "results = []\n",
    "\n",
    "# 循环处理每条职位描述\n",
    "for job_info in merged_jobs:\n",
    "    job_title = job_info['job']\n",
    "    job_description = job_info['description']\n",
    "    result = extract_job_details(job_title, job_description)\n",
    "\n",
    "    result_lines = result.split(\"-\")\n",
    "    if len(result_lines) != 6:\n",
    "        result_lines.insert(0, job_title)  # 将 job_title 插入为第一个元素\n",
    "    \n",
    "    # 确保结果的长度为 6，即 [job, 专业, 性格, 软件技能, 工作内容, 品质]\n",
    "    while len(result_lines) < 6:\n",
    "        result_lines.append(\"无\")  # 如果某些字段缺失，填充 \"无\" 作为占位符\n",
    "\n",
    "    # 将结果保存到字典\n",
    "    results.append({\n",
    "        \"job\": result_lines[0],\n",
    "        \"专业\": result_lines[1],\n",
    "        \"性格\": result_lines[2],\n",
    "        \"软件技能\": result_lines[3],\n",
    "        \"工作内容\": result_lines[4],\n",
    "        \"品质\": result_lines[5]\n",
    "    })\n",
    "# 将结果转换为 DataFrame\n",
    "df = pd.DataFrame(results)\n",
    "\n",
    "# 导出为 CSV 文件\n",
    "df.to_csv(\"job_details.csv\", index=False)\n",
    "\n",
    "print(\"CSV 文件已生成，路径为 job_details.csv\")"
   ]
  },
  {
   "cell_type": "code",
   "execution_count": null,
   "metadata": {},
   "outputs": [],
   "source": []
  }
 ],
 "metadata": {
  "kernelspec": {
   "display_name": "LightGT",
   "language": "python",
   "name": "python3"
  },
  "language_info": {
   "codemirror_mode": {
    "name": "ipython",
    "version": 3
   },
   "file_extension": ".py",
   "mimetype": "text/x-python",
   "name": "python",
   "nbconvert_exporter": "python",
   "pygments_lexer": "ipython3",
   "version": "3.8.15"
  }
 },
 "nbformat": 4,
 "nbformat_minor": 2
}
